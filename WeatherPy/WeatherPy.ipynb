{
 "cells": [
  {
   "cell_type": "markdown",
   "metadata": {},
   "source": [
    "# WeatherPy\n",
    "----\n",
    "\n",
    "#### Note\n",
    "* Instructions have been included for each segment. You do not have to follow them exactly, but they are included to help you think through the steps."
   ]
  },
  {
   "cell_type": "code",
   "execution_count": 76,
   "metadata": {
    "scrolled": true
   },
   "outputs": [],
   "source": [
    "# Dependencies and Setup\n",
    "import matplotlib.pyplot as plt\n",
    "import pandas as pd\n",
    "import numpy as np\n",
    "import requests\n",
    "import time\n",
    "from scipy.stats import linregress\n",
    "import json\n",
    "from scipy import stats\n",
    "\n",
    "# Import API key\n",
    "from config import api_key\n",
    "\n",
    "# Incorporated citipy to determine city based on latitude and longitude\n",
    "from citipy import citipy\n",
    "\n",
    "# Output File (CSV)\n",
    "output_data_file = \"output_data/cities.csv\"\n",
    "\n",
    "# Range of latitudes and longitudes\n",
    "lat_range = (-90, 90)\n",
    "lng_range = (-180, 180)"
   ]
  },
  {
   "cell_type": "code",
   "execution_count": 84,
   "metadata": {},
   "outputs": [],
   "source": [
    "# Save config info\n",
    "url = \"http://api.openweathermap.org/data/2.5/weather?\"\n",
    "units = \"imperial\"\n",
    "\n",
    "# Build partial query URL\n",
    "query_url = f\"{url}appid={api_key}&units={units}&q=\""
   ]
  },
  {
   "cell_type": "markdown",
   "metadata": {},
   "source": [
    "## Generate Cities List"
   ]
  },
  {
   "cell_type": "code",
   "execution_count": 6,
   "metadata": {},
   "outputs": [
    {
     "data": {
      "text/plain": [
       "608"
      ]
     },
     "execution_count": 6,
     "metadata": {},
     "output_type": "execute_result"
    }
   ],
   "source": [
    "# List for holding lat_lngs and cities\n",
    "lat_lngs = []\n",
    "cities = []\n",
    "\n",
    "# Create a set of random lat and lng combinations\n",
    "lats = np.random.uniform(lat_range[0], lat_range[1], size=1500)\n",
    "lngs = np.random.uniform(lng_range[0], lng_range[1], size=1500)\n",
    "lat_lngs = zip(lats, lngs)\n",
    "\n",
    "# Identify nearest city for each lat, lng combination\n",
    "for lat_lng in lat_lngs:\n",
    "    city = citipy.nearest_city(lat_lng[0], lat_lng[1]).city_name\n",
    "    \n",
    "    # If the city is unique, then add it to a our cities list\n",
    "    if city not in cities:\n",
    "        cities.append(city)\n",
    "\n",
    "# Print the city count to confirm sufficient count\n",
    "len(cities)"
   ]
  },
  {
   "cell_type": "code",
   "execution_count": 85,
   "metadata": {},
   "outputs": [
    {
     "data": {
      "text/plain": [
       "['Paris', 'London', 'New York City', 'Chicago']"
      ]
     },
     "execution_count": 85,
     "metadata": {},
     "output_type": "execute_result"
    }
   ],
   "source": [
    "original_cities = [\"Paris\", \"London\", \"New York City\", \"Chicago\"]\n",
    "original_cities"
   ]
  },
  {
   "cell_type": "code",
   "execution_count": 86,
   "metadata": {},
   "outputs": [],
   "source": [
    "time.sleep(1)"
   ]
  },
  {
   "cell_type": "markdown",
   "metadata": {},
   "source": [
    "## Perform API Calls\n",
    "* Perform a weather check on each city using a series of successive API calls.\n",
    "* Include a print log of each city as it'sbeing processed (with the city number and city name).\n"
   ]
  },
  {
   "cell_type": "code",
   "execution_count": 87,
   "metadata": {
    "scrolled": true
   },
   "outputs": [
    {
     "name": "stdout",
     "output_type": "stream",
     "text": [
      "The latitude information received is: [48.85, 51.51, 40.71, 41.85]\n",
      "The latitude information received is: [2.35, -0.13, -74.01, -87.65]\n",
      "The temperature information received is: [48, 51.01, 60.8, 43]\n",
      "The latitude information received is: [87, 87, 71, 75]\n",
      "The latitude information received is: [94, 100, 20, 90]\n",
      "The latitude information received is: [1.12, 4.54, 11.74, 5.82]\n",
      "The latitude information received is: ['FR', 'GB', 'US', 'US']\n",
      "The latitude information received is: [1603061167, 1603060668, 1603061063, 1603061093]\n"
     ]
    }
   ],
   "source": [
    "# set up lists to hold reponse info\n",
    "lat = []\n",
    "lng = []\n",
    "max_temp = []\n",
    "humidity = []\n",
    "cloudiness = []\n",
    "wind_speed = []\n",
    "country = []\n",
    "date = []\n",
    "\n",
    "# Loop through the list of cities and perform a request for data on each\n",
    "for city in original_cities:\n",
    "    response = requests.get(query_url + city).json()\n",
    "    lat.append(response['coord']['lat'])\n",
    "    lng.append(response['coord']['lon'])\n",
    "    max_temp.append(response['main']['temp_max'])\n",
    "    humidity.append(response['main']['humidity'])\n",
    "    cloudiness.append(response['clouds']['all'])\n",
    "    wind_speed.append(response['wind']['speed'])\n",
    "    country.append(response['sys']['country'])\n",
    "    date.append(response['dt'])\n",
    "    #print(json.dumps(response, indent=2))\n",
    "    \n",
    "print(f\"The latitude information received is: {lat}\")\n",
    "print(f\"The latitude information received is: {lng}\")\n",
    "print(f\"The temperature information received is: {max_temp}\")\n",
    "print(f\"The latitude information received is: {humidity}\")\n",
    "print(f\"The latitude information received is: {cloudiness}\")\n",
    "print(f\"The latitude information received is: {wind_speed}\")\n",
    "print(f\"The latitude information received is: {country}\")\n",
    "print(f\"The latitude information received is: {date}\")"
   ]
  },
  {
   "cell_type": "markdown",
   "metadata": {},
   "source": [
    "## Convert Raw Data to DataFrame\n",
    "* Save as csv"
   ]
  },
  {
   "cell_type": "code",
   "execution_count": 88,
   "metadata": {},
   "outputs": [
    {
     "data": {
      "text/html": [
       "<div>\n",
       "<style scoped>\n",
       "    .dataframe tbody tr th:only-of-type {\n",
       "        vertical-align: middle;\n",
       "    }\n",
       "\n",
       "    .dataframe tbody tr th {\n",
       "        vertical-align: top;\n",
       "    }\n",
       "\n",
       "    .dataframe thead th {\n",
       "        text-align: right;\n",
       "    }\n",
       "</style>\n",
       "<table border=\"1\" class=\"dataframe\">\n",
       "  <thead>\n",
       "    <tr style=\"text-align: right;\">\n",
       "      <th></th>\n",
       "      <th>City</th>\n",
       "      <th>Lat</th>\n",
       "      <th>Lng</th>\n",
       "      <th>Max Temp</th>\n",
       "      <th>Humidity</th>\n",
       "      <th>Cloudiness</th>\n",
       "      <th>Wind Speed</th>\n",
       "      <th>Contry</th>\n",
       "      <th>Date</th>\n",
       "    </tr>\n",
       "  </thead>\n",
       "  <tbody>\n",
       "    <tr>\n",
       "      <th>0</th>\n",
       "      <td>Paris</td>\n",
       "      <td>48.85</td>\n",
       "      <td>2.35</td>\n",
       "      <td>48.00</td>\n",
       "      <td>87</td>\n",
       "      <td>94</td>\n",
       "      <td>1.12</td>\n",
       "      <td>FR</td>\n",
       "      <td>1603061167</td>\n",
       "    </tr>\n",
       "    <tr>\n",
       "      <th>1</th>\n",
       "      <td>London</td>\n",
       "      <td>51.51</td>\n",
       "      <td>-0.13</td>\n",
       "      <td>51.01</td>\n",
       "      <td>87</td>\n",
       "      <td>100</td>\n",
       "      <td>4.54</td>\n",
       "      <td>GB</td>\n",
       "      <td>1603060668</td>\n",
       "    </tr>\n",
       "    <tr>\n",
       "      <th>2</th>\n",
       "      <td>New York City</td>\n",
       "      <td>40.71</td>\n",
       "      <td>-74.01</td>\n",
       "      <td>60.80</td>\n",
       "      <td>71</td>\n",
       "      <td>20</td>\n",
       "      <td>11.74</td>\n",
       "      <td>US</td>\n",
       "      <td>1603061063</td>\n",
       "    </tr>\n",
       "    <tr>\n",
       "      <th>3</th>\n",
       "      <td>Chicago</td>\n",
       "      <td>41.85</td>\n",
       "      <td>-87.65</td>\n",
       "      <td>43.00</td>\n",
       "      <td>75</td>\n",
       "      <td>90</td>\n",
       "      <td>5.82</td>\n",
       "      <td>US</td>\n",
       "      <td>1603061093</td>\n",
       "    </tr>\n",
       "  </tbody>\n",
       "</table>\n",
       "</div>"
      ],
      "text/plain": [
       "            City    Lat    Lng  Max Temp  Humidity  Cloudiness  Wind Speed  \\\n",
       "0          Paris  48.85   2.35     48.00        87          94        1.12   \n",
       "1         London  51.51  -0.13     51.01        87         100        4.54   \n",
       "2  New York City  40.71 -74.01     60.80        71          20       11.74   \n",
       "3        Chicago  41.85 -87.65     43.00        75          90        5.82   \n",
       "\n",
       "  Contry        Date  \n",
       "0     FR  1603061167  \n",
       "1     GB  1603060668  \n",
       "2     US  1603061063  \n",
       "3     US  1603061093  "
      ]
     },
     "execution_count": 88,
     "metadata": {},
     "output_type": "execute_result"
    }
   ],
   "source": [
    "#create a df of the variables\n",
    "weather_dict = {\n",
    "   \"City\": original_cities,\n",
    "    \"Lat\": lat,\n",
    "    \"Lng\": lng,\n",
    "    \"Max Temp\": max_temp,\n",
    "    \"Humidity\": humidity,\n",
    "    \"Cloudiness\": cloudiness,\n",
    "    \"Wind Speed\": wind_speed,\n",
    "    \"Contry\": country,\n",
    "    \"Date\": date\n",
    "}\n",
    "weather_data = pd.DataFrame(weather_dict)\n",
    "weather_data"
   ]
  },
  {
   "cell_type": "code",
   "execution_count": null,
   "metadata": {},
   "outputs": [],
   "source": [
    "\n"
   ]
  },
  {
   "cell_type": "markdown",
   "metadata": {},
   "source": [
    "## Plotting the Data\n",
    "* Use proper labeling of the plots using plot titles (including date of analysis) and axes labels.\n",
    "* Save the plotted figures as .pngs."
   ]
  },
  {
   "cell_type": "markdown",
   "metadata": {},
   "source": [
    "### Latitude vs. Temperature Plot"
   ]
  },
  {
   "cell_type": "code",
   "execution_count": 89,
   "metadata": {
    "scrolled": true
   },
   "outputs": [
    {
     "data": {
      "image/png": "[encoded data removed]",
      "text/plain": [
       "<Figure size 432x288 with 1 Axes>"
      ]
     },
     "metadata": {
      "needs_background": "light"
     },
     "output_type": "display_data"
    }
   ],
   "source": [
    "#lat vs temp scatter plot\n",
    "plt.scatter(weather_data['Lat'], weather_data['Max Temp'], color = \"purple\")\n",
    "plt.xlabel(\"Latitude\", color = \"orange\")\n",
    "plt.ylabel(\"Max Temperature (F)\", color = \"green\")\n",
    "plt.title(\"City Latitude vs. Max Temperature\")\n",
    "plt.grid()\n",
    "plt.show()"
   ]
  },
  {
   "cell_type": "markdown",
   "metadata": {},
   "source": [
    "### Latitude vs. Humidity Plot"
   ]
  },
  {
   "cell_type": "code",
   "execution_count": 90,
   "metadata": {},
   "outputs": [
    {
     "data": {
      "image/png": "[encoded data removed]",
      "text/plain": [
       "<Figure size 432x288 with 1 Axes>"
      ]
     },
     "metadata": {
      "needs_background": "light"
     },
     "output_type": "display_data"
    }
   ],
   "source": [
    "#lat vs humidity scatter plot\n",
    "plt.scatter(weather_data['Lat'], weather_data['Humidity'], color = \"purple\")\n",
    "plt.xlabel(\"Latitude\", color = \"orange\")\n",
    "plt.ylabel(\"Humidity (%)\", color = \"green\")\n",
    "plt.title(\"City Latitude vs. Humidity\")\n",
    "plt.grid()\n",
    "plt.show()"
   ]
  },
  {
   "cell_type": "markdown",
   "metadata": {},
   "source": [
    "### Latitude vs. Cloudiness Plot"
   ]
  },
  {
   "cell_type": "code",
   "execution_count": 91,
   "metadata": {},
   "outputs": [
    {
     "data": {
      "image/png": "[encoded data removed]",
      "text/plain": [
       "<Figure size 432x288 with 1 Axes>"
      ]
     },
     "metadata": {
      "needs_background": "light"
     },
     "output_type": "display_data"
    }
   ],
   "source": [
    "#lat vs humidity scatter plot\n",
    "plt.scatter(weather_data['Lat'], weather_data['Cloudiness'], color = \"purple\")\n",
    "plt.xlabel(\"Latitude\", color = \"orange\")\n",
    "plt.ylabel(\"Cloudiness (%)\", color = \"green\")\n",
    "plt.title(\"City Latitude vs. Cloudiness\")\n",
    "plt.grid()\n",
    "plt.show()"
   ]
  },
  {
   "cell_type": "markdown",
   "metadata": {},
   "source": [
    "### Latitude vs. Wind Speed Plot"
   ]
  },
  {
   "cell_type": "code",
   "execution_count": 92,
   "metadata": {},
   "outputs": [
    {
     "data": {
      "image/png": "[encoded data removed]",
      "text/plain": [
       "<Figure size 432x288 with 1 Axes>"
      ]
     },
     "metadata": {
      "needs_background": "light"
     },
     "output_type": "display_data"
    }
   ],
   "source": [
    "#lat vs humidity scatter plot\n",
    "plt.scatter(weather_data['Lat'], weather_data['Wind Speed'], color = \"purple\")\n",
    "plt.xlabel(\"Latitude\", color = \"orange\")\n",
    "plt.ylabel(\"Wind Speed (mph)\", color = \"green\")\n",
    "plt.title(\"City Latitude vs. Wind Speed\")\n",
    "plt.grid()\n",
    "plt.show()"
   ]
  },
  {
   "cell_type": "markdown",
   "metadata": {},
   "source": [
    "## Linear Regression"
   ]
  },
  {
   "cell_type": "markdown",
   "metadata": {},
   "source": [
    "### Write linear regression plot function (optional)"
   ]
  },
  {
   "cell_type": "code",
   "execution_count": 93,
   "metadata": {},
   "outputs": [
    {
     "name": "stdout",
     "output_type": "stream",
     "text": [
      "y = -0.33x +65.76\n"
     ]
    }
   ],
   "source": [
    "# Perform a linear regression on temperature vs. latitude\n",
    "(slope, intercept, rvalue, pvalue, stderr) = stats.linregress(weather_data['Lat'], weather_data['Max Temp'])\n",
    "\n",
    "# Get regression values\n",
    "regress_values = weather_data['Max Temp'] * slope + intercept\n",
    "#print(regress_values)\n",
    "\n",
    "# Create line equation string\n",
    "line_eq = \"y = \" + str(round(slope,2)) + \"x +\" + str(round(intercept,2))\n",
    "print(line_eq)"
   ]
  },
  {
   "cell_type": "markdown",
   "metadata": {},
   "source": [
    "###  Northern Hemisphere - Max Temp vs. Latitude Linear Regression"
   ]
  },
  {
   "cell_type": "code",
   "execution_count": 94,
   "metadata": {},
   "outputs": [
    {
     "name": "stdout",
     "output_type": "stream",
     "text": [
      "The r-value is: 0.05359340398064894\n"
     ]
    },
    {
     "data": {
      "image/png": "[encoded data removed]",
      "text/plain": [
       "<Figure size 432x288 with 1 Axes>"
      ]
     },
     "metadata": {
      "needs_background": "light"
     },
     "output_type": "display_data"
    }
   ],
   "source": [
    "# Create Plot\n",
    "plt.scatter(weather_data['Lat'], weather_data['Max Temp'], color = \"purple\")\n",
    "plt.plot(weather_data['Lat'], weather_data['Max Temp'],\"r-\")\n",
    "plt.xlabel(\"Latitude\", color = \"orange\")\n",
    "plt.ylabel(\"Max Temperature (F)\", color = \"green\")\n",
    "plt.title(\"City Latitude vs. Max Temperature\")\n",
    "# Label plot and annotate the line equation\n",
    "plt.annotate(line_eq,(20,15),fontsize=15,color=\"red\")\n",
    "\n",
    "# Print r value\n",
    "print(f\"The r-value is: {rvalue**2}\")\n",
    "\n",
    "# Show plot\n",
    "plt.show()"
   ]
  },
  {
   "cell_type": "markdown",
   "metadata": {},
   "source": [
    "###  Southern Hemisphere - Max Temp vs. Latitude Linear Regression"
   ]
  },
  {
   "cell_type": "code",
   "execution_count": null,
   "metadata": {},
   "outputs": [],
   "source": [
    "# Create Plot\n",
    "plt.scatter(weather_data['Lat'], weather_data['Max Temp'], color = \"purple\")\n",
    "plt.plot(weather_data['Lat'], weather_data['Max Temp'],\"r-\")\n",
    "plt.xlabel(\"Latitude\", color = \"orange\")\n",
    "plt.ylabel(\"Max Temperature (F)\", color = \"green\")\n",
    "plt.title(\"City Latitude vs. Max Temperature\")\n",
    "# Label plot and annotate the line equation\n",
    "plt.annotate(line_eq,(20,15),fontsize=15,color=\"red\")\n",
    "\n",
    "# Print r value\n",
    "print(f\"The r-value is: {rvalue**2}\")\n",
    "\n",
    "# Show plot\n",
    "plt.show()"
   ]
  },
  {
   "cell_type": "code",
   "execution_count": null,
   "metadata": {},
   "outputs": [],
   "source": []
  },
  {
   "cell_type": "markdown",
   "metadata": {},
   "source": [
    "###  Northern Hemisphere - Humidity (%) vs. Latitude Linear Regression"
   ]
  },
  {
   "cell_type": "code",
   "execution_count": null,
   "metadata": {},
   "outputs": [],
   "source": [
    "# Create Plot\n",
    "plt.scatter(weather_data['Lat'], weather_data['Humidity'], color = \"purple\")\n",
    "plt.plot(weather_data['Lat'], weather_data['Humidity'],\"r-\")\n",
    "plt.xlabel(\"Latitude\", color = \"orange\")\n",
    "plt.ylabel(\"Humidity (%)\", color = \"green\")\n",
    "plt.title(\"City Latitude vs. Humidity (%)\")\n",
    "# Label plot and annotate the line equation\n",
    "plt.annotate(line_eq,(20,15),fontsize=15,color=\"red\")\n",
    "\n",
    "# Print r value\n",
    "print(f\"The r-value is: {rvalue**2}\")\n",
    "\n",
    "# Show plot\n",
    "plt.show()"
   ]
  },
  {
   "cell_type": "markdown",
   "metadata": {},
   "source": [
    "###  Southern Hemisphere - Humidity (%) vs. Latitude Linear Regression"
   ]
  },
  {
   "cell_type": "code",
   "execution_count": null,
   "metadata": {},
   "outputs": [],
   "source": [
    "plt.scatter(weather_data['Lat'], weather_data['Humidity'], color = \"purple\")\n",
    "plt.plot(weather_data['Lat'], weather_data['Humidity'],\"r-\")\n",
    "plt.xlabel(\"Latitude\", color = \"orange\")\n",
    "plt.ylabel(\"Humidity (%)\", color = \"green\")\n",
    "plt.title(\"City Latitude vs. Humidity\")\n",
    "# Label plot and annotate the line equation\n",
    "plt.annotate(line_eq,(20,15),fontsize=15,color=\"red\")\n",
    "\n",
    "# Print r value\n",
    "print(f\"The r-value is: {rvalue**2}\")\n",
    "\n",
    "# Show plot\n",
    "plt.show()"
   ]
  },
  {
   "cell_type": "code",
   "execution_count": null,
   "metadata": {},
   "outputs": [],
   "source": []
  },
  {
   "cell_type": "markdown",
   "metadata": {},
   "source": [
    "###  Northern Hemisphere - Cloudiness (%) vs. Latitude Linear Regression"
   ]
  },
  {
   "cell_type": "code",
   "execution_count": null,
   "metadata": {},
   "outputs": [],
   "source": [
    "plt.scatter(weather_data['Lat'], weather_data['Cloudiness'], color = \"purple\")\n",
    "plt.plot(weather_data['Lat'], weather_data['Cloudiness'],\"r-\")\n",
    "plt.xlabel(\"Latitude\", color = \"orange\")\n",
    "plt.ylabel(\"Cloudiness (%)\", color = \"green\")\n",
    "plt.title(\"City Latitude vs. Cloudiness\")\n",
    "# Label plot and annotate the line equation\n",
    "plt.annotate(line_eq,(20,15),fontsize=15,color=\"red\")\n",
    "\n",
    "# Print r value\n",
    "print(f\"The r-value is: {rvalue**2}\")\n",
    "\n",
    "# Show plot\n",
    "plt.show()"
   ]
  },
  {
   "cell_type": "markdown",
   "metadata": {},
   "source": [
    "###  Southern Hemisphere - Cloudiness (%) vs. Latitude Linear Regression"
   ]
  },
  {
   "cell_type": "code",
   "execution_count": null,
   "metadata": {},
   "outputs": [],
   "source": [
    "plt.scatter(weather_data['Lat'], weather_data['Cloudiness'], color = \"purple\")\n",
    "plt.plot(weather_data['Lat'], weather_data['Cloudiness'],\"r-\")\n",
    "plt.xlabel(\"Latitude\", color = \"orange\")\n",
    "plt.ylabel(\"Cloudiness (%)\", color = \"green\")\n",
    "plt.title(\"City Latitude vs. Cloudiness\")\n",
    "# Label plot and annotate the line equation\n",
    "plt.annotate(line_eq,(20,15),fontsize=15,color=\"red\")\n",
    "\n",
    "# Print r value\n",
    "print(f\"The r-value is: {rvalue**2}\")\n",
    "\n",
    "# Show plot\n",
    "plt.show()"
   ]
  },
  {
   "cell_type": "code",
   "execution_count": null,
   "metadata": {},
   "outputs": [],
   "source": []
  },
  {
   "cell_type": "markdown",
   "metadata": {},
   "source": [
    "###  Northern Hemisphere - Wind Speed (mph) vs. Latitude Linear Regression"
   ]
  },
  {
   "cell_type": "code",
   "execution_count": null,
   "metadata": {},
   "outputs": [],
   "source": [
    "plt.scatter(weather_data['Lat'], weather_data['Wind Speed'], color = \"purple\")\n",
    "plt.plot(weather_data['Lat'], weather_data['Wind Speed'],\"r-\")\n",
    "plt.xlabel(\"Latitude\", color = \"orange\")\n",
    "plt.ylabel(\"Wind Speed (mph)\", color = \"green\")\n",
    "plt.title(\"City Latitude vs. Wind Speed\")\n",
    "# Label plot and annotate the line equation\n",
    "plt.annotate(line_eq,(20,15),fontsize=15,color=\"red\")\n",
    "\n",
    "# Print r value\n",
    "print(f\"The r-value is: {rvalue**2}\")\n",
    "\n",
    "# Show plot\n",
    "plt.show()"
   ]
  },
  {
   "cell_type": "markdown",
   "metadata": {},
   "source": [
    "###  Southern Hemisphere - Wind Speed (mph) vs. Latitude Linear Regression"
   ]
  },
  {
   "cell_type": "code",
   "execution_count": null,
   "metadata": {},
   "outputs": [],
   "source": [
    "plt.scatter(weather_data['Lat'], weather_data['Wind Speed'], color = \"purple\")\n",
    "plt.plot(weather_data['Lat'], weather_data['Wind Speed'],\"r-\")\n",
    "plt.xlabel(\"Latitude\", color = \"orange\")\n",
    "plt.ylabel(\"Wind Speed (mph)\", color = \"green\")\n",
    "plt.title(\"City Latitude vs. Wind Speed\")\n",
    "# Label plot and annotate the line equation\n",
    "plt.annotate(line_eq,(20,15),fontsize=15,color=\"red\")\n",
    "\n",
    "# Print r value\n",
    "print(f\"The r-value is: {rvalue**2}\")\n",
    "\n",
    "# Show plot\n",
    "plt.show()"
   ]
  },
  {
   "cell_type": "code",
   "execution_count": null,
   "metadata": {},
   "outputs": [],
   "source": []
  }
 ],
 "metadata": {
  "anaconda-cloud": {},
  "kernel_info": {
   "name": "python3"
  },
  "kernelspec": {
   "display_name": "Python 3",
   "language": "python",
   "name": "python3"
  },
  "language_info": {
   "codemirror_mode": {
    "name": "ipython",
    "version": 3
   },
   "file_extension": ".py",
   "mimetype": "text/x-python",
   "name": "python",
   "nbconvert_exporter": "python",
   "pygments_lexer": "ipython3",
   "version": "3.6.10"
  },
  "latex_envs": {
   "LaTeX_envs_menu_present": true,
   "autoclose": false,
   "autocomplete": true,
   "bibliofile": "biblio.bib",
   "cite_by": "apalike",
   "current_citInitial": 1,
   "eqLabelWithNumbers": true,
   "eqNumInitial": 1,
   "hotkeys": {
    "equation": "Ctrl-E",
    "itemize": "Ctrl-I"
   },
   "labels_anchors": false,
   "latex_user_defs": false,
   "report_style_numbering": false,
   "user_envs_cfg": false
  },
  "nteract": {
   "version": "0.12.3"
  },
  "toc": {
   "base_numbering": 1,
   "nav_menu": {},
   "number_sections": true,
   "sideBar": true,
   "skip_h1_title": false,
   "title_cell": "Table of Contents",
   "title_sidebar": "Contents",
   "toc_cell": false,
   "toc_position": {},
   "toc_section_display": true,
   "toc_window_display": false
  },
  "varInspector": {
   "cols": {
    "lenName": 16,
    "lenType": 16,
    "lenVar": 40
   },
   "kernels_config": {
    "python": {
     "delete_cmd_postfix": "",
     "delete_cmd_prefix": "del ",
     "library": "var_list.py",
     "varRefreshCmd": "print(var_dic_list())"
    },
    "r": {
     "delete_cmd_postfix": ") ",
     "delete_cmd_prefix": "rm(",
     "library": "var_list.r",
     "varRefreshCmd": "cat(var_dic_list()) "
    }
   },
   "types_to_exclude": [
    "module",
    "function",
    "builtin_function_or_method",
    "instance",
    "_Feature"
   ],
   "window_display": false
  }
 },
 "nbformat": 4,
 "nbformat_minor": 2
}
